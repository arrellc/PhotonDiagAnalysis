{
 "cells": [
  {
   "cell_type": "markdown",
   "metadata": {},
   "source": [
    "# Script to extract arrival times from raw THz streaking data at SwissFEL Alvra and save results as h5 file\n",
    "- General documentation https://docs.google.com/document/d/1Ll3_WsHzFwuvL-sWgqWQUSYKJRgFG6W7PWY-NJ40WS0/edit?usp=sharing\n",
    "- User guide ADD WEBSITE\n",
    "- Comments to christopher.arrell@psi.ch"
   ]
  },
  {
   "cell_type": "code",
   "execution_count": 17,
   "metadata": {
    "collapsed": true
   },
   "outputs": [],
   "source": [
    "import photodiag\n",
    "import numpy as np\n",
    "import matplotlib.pyplot as plt\n",
    "import h5py as h5\n",
    "import json\n",
    "import os\n",
    "from IPython.display import clear_output, display"
   ]
  },
  {
   "cell_type": "code",
   "execution_count": 18,
   "metadata": {
    "collapsed": true
   },
   "outputs": [],
   "source": [
    "def LoadData(fn):\n",
    "    with h5.File(fn, 'r') as f:\n",
    "        try:\n",
    "            TOF = -f['data/SAROP11-PALMK118:CH2_BUFFER/data'][:]\n",
    "            uTOF = -f['data/SAROP11-PALMK118:CH1_BUFFER/data'][:]\n",
    "            PulseIds = f['data/SAROP11-PALMK118:CH2_BUFFER/pulse_id'][:]\n",
    "            Events = f['data/SAR-CVME-TIFALL5:EvtSet/data'][:]\n",
    "        except:\n",
    "            TOF = -f['SAROP11-PALMK118:CH2_BUFFER/data'][:]\n",
    "            uTOF = -f['SAROP11-PALMK118:CH1_BUFFER/data'][:]\n",
    "            PulseIds = f['SAROP11-PALMK118:CH2_BUFFER/pulse_id'][:]\n",
    "            Events = f['SAR-CVME-TIFALL5:EvtSet/data'][:]\n",
    "            \n",
    "        FEL = Events[:,48]\n",
    "        Laser = Events[:,18]\n",
    "        Darkshot = Events[:,21]\n",
    "        index_pump = np.logical_and.reduce((FEL, Laser, np.logical_not(Darkshot)))\n",
    "    return(TOF[index_pump], uTOF[index_pump], PulseIds[index_pump])\n",
    "\n",
    "def Time2t0(dataIn):\n",
    "    #for stages in S\n",
    "    dataIn -= dataIn.mean()\n",
    "    return dataIn*1e15"
   ]
  },
  {
   "cell_type": "markdown",
   "metadata": {},
   "source": [
    "\n",
    "### User inputs\n"
   ]
  },
  {
   "cell_type": "code",
   "execution_count": 19,
   "metadata": {
    "collapsed": true
   },
   "outputs": [],
   "source": [
    "energyFrom = 1300\n",
    "energyTo = 1800\n",
    "energySteps = 1000\n",
    "ScanFn = '/sf/alvra/data/p17589/res/scan_info/Febpy_timescan_7154eV_150mJ_006_scan_info.json'\n",
    "CalibrationFn = f'/sf/alvra/data/p17589/res/PhotoDiag/scan_info/2019-07-05_10:44:32.palm_etof'\n",
    "Datafn = ScanFn[36:-5]+'_TT_data'\n",
    "Datafn_pids = ScanFn[36:-5]+'_TT_data_pids'"
   ]
  },
  {
   "cell_type": "markdown",
   "metadata": {},
   "source": [
    "### Setup and load data"
   ]
  },
  {
   "cell_type": "code",
   "execution_count": 20,
   "metadata": {},
   "outputs": [
    {
     "name": "stdout",
     "output_type": "stream",
     "text": [
      "File loaded: \n",
      "/sf/alvra/data/p17589/raw/scan_data/Febpy_timescan_7154eV_150mJ_006/Febpy_timescan_7154eV_150mJ_006_step0053.BSREAD.h5\n"
     ]
    }
   ],
   "source": [
    "palm = photodiag.PalmSetup(\n",
    "    channels={'0': 'SAROP11-PALMK118:CH1_BUFFER', '1': 'SAROP11-PALMK118:CH2_BUFFER'},\n",
    "    noise_range=[0, 250], energy_range=np.linspace(energyFrom, energyTo, energySteps),\n",
    ")\n",
    "palm.load_etof_calib(CalibrationFn)\n",
    "\n",
    "\n",
    "with open(ScanFn) as f:\n",
    "    data = json.load(f)\n",
    "numFiles = len(data['scan_files'])\n",
    "StagePOS = data['scan_values'][:]\n",
    "\n",
    "wf_str = []\n",
    "wf_ref = []\n",
    "pids = []\n",
    "\n",
    "for i in range(0,numFiles):\n",
    "    clear_output(wait=True)\n",
    "    print('File loaded: \\n' + data['scan_files'][i][0])\n",
    "    (tmpwf_str, tmpwf_ref, tmp_pids) = LoadData(str(data['scan_files'][i][0]))\n",
    "    \n",
    "    wf_str.append(tmpwf_str)\n",
    "    wf_ref.append(tmpwf_ref)\n",
    "    pids.append(tmp_pids)\n",
    "    \n",
    "wf_str = np.asarray(wf_str)\n",
    "wf_ref = np.asarray(wf_ref)\n",
    "pids = np.asarray(pids)\n",
    "\n",
    "StagePOS = np.asarray(StagePOS)\n",
    "\n",
    "TimeAx = Time2t0(StagePOS)\n",
    "StagePOS = np.asarray(StagePOS)"
   ]
  },
  {
   "cell_type": "markdown",
   "metadata": {},
   "source": [
    "### Extract arrival times and save"
   ]
  },
  {
   "cell_type": "code",
   "execution_count": 21,
   "metadata": {
    "collapsed": true
   },
   "outputs": [],
   "source": [
    "calibPALM = -.08 # ev/fs  This from THz streak plot script"
   ]
  },
  {
   "cell_type": "code",
   "execution_count": 22,
   "metadata": {
    "collapsed": true
   },
   "outputs": [],
   "source": [
    "Delays = []\n",
    "for i in range(0,len(wf_str)):\n",
    "    delays, pulse_lengths = palm.process({'0': wf_ref[i], '1': wf_str[i]}, noise_thr=0, jacobian=False, peak='max')\n",
    "    Delays.append(delays)\n",
    "DelaysRAW = np.asarray(Delays)\n",
    "Delays = np.asarray(Delays)/calibPALM"
   ]
  },
  {
   "cell_type": "code",
   "execution_count": 27,
   "metadata": {},
   "outputs": [],
   "source": [
    "SaveFn = '/das/work/units/alvra/p17589/PhotonDiag/'+Datafn+'.h5'\n",
    "with h5.File(SaveFn,'w-') as fh:\n",
    "    fh['Delays_fs'] = Delays\n",
    "    fh['Delays_eV'] = DelaysRAW\n",
    "    fh['calibPALM'] = calibPALM\n",
    "    fh['PulseIDs'] = pids\n",
    "    fh['Calib_fn'] = CalibrationFn\n",
    "    fh['Scan_fn'] = ScanFn\n",
    "    fh['Energy vals'] = 'Energy from '+str(energyFrom)+ 'Energy to '+str(energyTo)+ 'Energy steps '+str(energySteps)  "
   ]
  }
 ],
 "metadata": {
  "kernelspec": {
   "display_name": "Python [conda env:miniconda]",
   "language": "python",
   "name": "conda-env-miniconda-py"
  },
  "language_info": {
   "codemirror_mode": {
    "name": "ipython",
    "version": 3
   },
   "file_extension": ".py",
   "mimetype": "text/x-python",
   "name": "python",
   "nbconvert_exporter": "python",
   "pygments_lexer": "ipython3",
   "version": "3.6.8"
  }
 },
 "nbformat": 4,
 "nbformat_minor": 2
}
